{
 "cells": [
  {
   "cell_type": "markdown",
   "metadata": {},
   "source": [
    "# HW5 : Kernel Methods for Regression\n",
    "\n",
    "Official instructions:\n",
    "\n",
    "https://www.cs.tufts.edu/comp/135/2020f/hw5.html\n",
    "\n",
    "This is the starter code."
   ]
  },
  {
   "cell_type": "markdown",
   "metadata": {},
   "source": [
    "## Import relevant packages"
   ]
  },
  {
   "cell_type": "code",
   "execution_count": null,
   "metadata": {},
   "outputs": [],
   "source": [
    "import numpy as np\n",
    "import pandas as pd\n",
    "import os\n",
    "import sys\n",
    "import time\n",
    "import importlib\n",
    "import itertools"
   ]
  },
  {
   "cell_type": "code",
   "execution_count": null,
   "metadata": {},
   "outputs": [],
   "source": [
    "import sklearn.linear_model\n",
    "import sklearn.pipeline\n",
    "import sklearn.metrics"
   ]
  },
  {
   "cell_type": "code",
   "execution_count": null,
   "metadata": {},
   "outputs": [],
   "source": [
    "# Plotting utils\n",
    "import matplotlib\n",
    "import matplotlib.pyplot as plt\n",
    "\n",
    "%matplotlib inline\n",
    "plt.style.use('seaborn') # pretty matplotlib plots\n",
    "\n",
    "import seaborn as sns\n",
    "sns.set('notebook', font_scale=1.25, style='whitegrid')"
   ]
  },
  {
   "cell_type": "markdown",
   "metadata": {},
   "source": [
    "# Load Training set data for the 'ByYear' split"
   ]
  },
  {
   "cell_type": "markdown",
   "metadata": {},
   "source": [
    "Make sure you have downloaded the CSV files in the `data_melbourne_daily_min_temp` folder"
   ]
  },
  {
   "cell_type": "code",
   "execution_count": null,
   "metadata": {},
   "outputs": [],
   "source": [
    "DATA_DIR = os.path.join(\"../data_melbourne_daily_min_temp/\") # TODO fix me"
   ]
  },
  {
   "cell_type": "code",
   "execution_count": null,
   "metadata": {},
   "outputs": [],
   "source": [
    "data_trByYear_df = pd.read_csv(os.path.join(DATA_DIR, 'data_train_ByYear.csv'))"
   ]
  },
  {
   "cell_type": "code",
   "execution_count": null,
   "metadata": {},
   "outputs": [],
   "source": [
    "# Inspect the first few entries\n",
    "data_trByYear_df.head()"
   ]
  },
  {
   "cell_type": "code",
   "execution_count": null,
   "metadata": {},
   "outputs": [],
   "source": [
    "# Inspect the last few entries\n",
    "data_trByYear_df.tail()"
   ]
  },
  {
   "cell_type": "code",
   "execution_count": null,
   "metadata": {},
   "outputs": [],
   "source": [
    "# Read relevant columns into numpy arrays for x and y\n",
    "\n",
    "x_trByYear_N1 = data_trByYear_df['years_since_19850101'].values[:][:,np.newaxis].copy()\n",
    "y_trByYear_N = data_trByYear_df['temp_deg_C'].values[:].copy()\n",
    "\n",
    "print(\"Training data (ByYear split strategy)\")\n",
    "print(\"x_trByYear_N1.shape: %s\" % str(x_trByYear_N1.shape))\n",
    "print(\"y_trByYear_N.shape : %s\" % str(y_trByYear_N.shape))\n",
    "print(\"mean(y_trByYear_N) : %.3f\" % np.mean(y_trByYear_N))"
   ]
  },
  {
   "cell_type": "markdown",
   "metadata": {},
   "source": [
    "# Load Validation set data for the 'ByYear' split"
   ]
  },
  {
   "cell_type": "code",
   "execution_count": null,
   "metadata": {},
   "outputs": [],
   "source": [
    "data_vaByYear_df = pd.read_csv(os.path.join(DATA_DIR, 'data_valid_ByYear.csv'))\n",
    "\n",
    "data_vaByYear_df.head()"
   ]
  },
  {
   "cell_type": "code",
   "execution_count": null,
   "metadata": {},
   "outputs": [],
   "source": [
    "x_vaByYear_T1 = data_vaByYear_df['years_since_19850101'].values[:][:,np.newaxis].copy()\n",
    "y_vaByYear_T = data_vaByYear_df['temp_deg_C'].values[:].copy()\n",
    "\n",
    "print(\"Validation data (ByYear split strategy)\")\n",
    "print(\"x_vaByYear_T1.shape: %s\" % str(x_vaByYear_T1.shape))\n",
    "print(\"y_vaByYear_T.shape : %s\" % str(y_vaByYear_T.shape))\n",
    "print(\"mean(y_vaByYear_T) : %.3f\" % np.mean(y_vaByYear_T))"
   ]
  },
  {
   "cell_type": "markdown",
   "metadata": {},
   "source": [
    "# Plot both training and validation sets"
   ]
  },
  {
   "cell_type": "code",
   "execution_count": null,
   "metadata": {},
   "outputs": [],
   "source": [
    "fig, axgrid = plt.subplots(nrows=1, ncols=2, sharex=True, sharey=True, figsize=(20,5))\n",
    "\n",
    "axgrid[0].plot(x_trByYear_N1, y_trByYear_N, 'bs', alpha=0.4)\n",
    "axgrid[0].set_xlabel('x : Fractional Years since 1985');\n",
    "axgrid[0].set_title('Training Set (%d examples, %s-%s)' % (\n",
    "    y_trByYear_N.size,\n",
    "    pd.to_datetime(data_trByYear_df['date'].values[0]).year,\n",
    "    pd.to_datetime(data_trByYear_df['date'].values[-1]).year))\n",
    "\n",
    "axgrid[1].plot(x_vaByYear_T1, y_vaByYear_T, 'cs', alpha=0.4)\n",
    "axgrid[1].set_xlabel('x : Fractional Years since 1985');\n",
    "axgrid[1].set_title('Validation Set (%d examples, %s-%s)' % (\n",
    "    y_vaByYear_T.size,\n",
    "    pd.to_datetime(data_vaByYear_df['date'].values[0]).year,\n",
    "    pd.to_datetime(data_vaByYear_df['date'].values[-1]).year))\n",
    "\n",
    "axgrid[0].set_ylabel(\"y : Min Daily Temp (deg C)\");"
   ]
  },
  {
   "cell_type": "code",
   "execution_count": null,
   "metadata": {},
   "outputs": [],
   "source": []
  },
  {
   "cell_type": "markdown",
   "metadata": {},
   "source": [
    "## Prepare to use sklearn splitter tools for hyperparameter search"
   ]
  },
  {
   "cell_type": "markdown",
   "metadata": {},
   "source": [
    "### Prep a splitter object that knows which examples are 'train' and which are 'validation'"
   ]
  },
  {
   "cell_type": "code",
   "execution_count": null,
   "metadata": {},
   "outputs": [],
   "source": [
    "x_all_ByYear_L1 = np.vstack([x_trByYear_N1, x_vaByYear_T1])\n",
    "y_all_ByYear_L = np.hstack([y_trByYear_N, y_vaByYear_T])"
   ]
  },
  {
   "cell_type": "code",
   "execution_count": null,
   "metadata": {},
   "outputs": [],
   "source": [
    "# Create splitter object using Predefined Split\n",
    "my_ByYear_splitter = sklearn.model_selection.PredefinedSplit(np.hstack([\n",
    "    -1 * np.ones(y_trByYear_N.size), # -1 means never include this example in any test split\n",
    "    0  * np.ones(y_vaByYear_T.size), #  0 means include in the first test split (we count starting at 0 in python)\n",
    "    ]))"
   ]
  },
  {
   "cell_type": "markdown",
   "metadata": {},
   "source": [
    "# Problem 3: Linear Kernel Regression Baseline\n",
    "\n"
   ]
  },
  {
   "cell_type": "markdown",
   "metadata": {},
   "source": [
    "### Load kernel function from your completed `linear_kernel.py` file"
   ]
  },
  {
   "cell_type": "code",
   "execution_count": null,
   "metadata": {},
   "outputs": [],
   "source": [
    "import linear_kernel\n",
    "importlib.reload(linear_kernel)"
   ]
  },
  {
   "cell_type": "markdown",
   "metadata": {},
   "source": [
    "### Establish a pipeline for LInear Kernel Regression\n",
    "\n",
    "Makes use of sklearn's `FunctionTransformer` (see [docs](https://scikit-learn.org/stable/modules/generated/sklearn.preprocessing.FunctionTransformer.html)), which will apply kernel function as first 'transformation' step in our pipeline.\n",
    "\n",
    "This pipeline has two steps: 'linearkernelTransformer' and 'ridgeRegressor'\n",
    "\n",
    "What happens when we call `fit(x_train_NF)` with this pipeline?\n",
    "\n",
    "* 1) Transforms input features `x_train_NF` to kernel features `k_NN`\n",
    "* * Entry i,j is the kernel between the i-th training feature and j-th training feature\n",
    "\n",
    "* 2) Learns regression weight coefficient for each of the N columns of `k_NN`, by minimizing least squares objective with ridge penalty\n",
    "\n",
    "$$\n",
    "\\min_{w \\in \\mathbb{R}^N, b} ~~ \\sum_{n=1}^N (y_n - b - {\\textstyle \\sum_{i=1}^N w_i k(x_n, x_i)} )^2 ~ + \\alpha \\sum_{i=1}^N w_i^2\n",
    "$$\n",
    "\n",
    "What happens when we call `predict(x_QF)` with this pipeline?\n",
    "\n",
    "* 1) Transform input features x_QF to the kernel features k_QN\n",
    "* * Entry q,n is the kernel between the q-th test feature and n-th training feature\n",
    "\n",
    "* 2) Apply the learned ridge regression to the k_QN 'kernel features'\n",
    "* * Uses the learned weight coefficients for each of the N training examples to make a prediction\n",
    "\n",
    "$$\n",
    "\\hat{y}(x_*) = b + {\\textstyle \\sum_{i=1}^N w_i k(x_*, x_i)} )^2 \n",
    "$$"
   ]
  },
  {
   "cell_type": "code",
   "execution_count": null,
   "metadata": {},
   "outputs": [],
   "source": [
    "klr = sklearn.pipeline.Pipeline([\n",
    "    ('linearkernelTransformer', sklearn.preprocessing.FunctionTransformer(linear_kernel.calc_linear_kernel)),\n",
    "    ('ridgeRegressor', sklearn.linear_model.Ridge(alpha=1.0)),\n",
    "    ])"
   ]
  },
  {
   "cell_type": "markdown",
   "metadata": {},
   "source": [
    "### Setup grid search \n",
    "\n",
    "Performance metric:\n",
    "\n",
    "* `neg_mean_absolute_error` ([docs](https://scikit-learn.org/stable/modules/model_evaluation.html#the-scoring-parameter-defining-model-evaluation-rules), uses sklearn's built-in [mean_absolute_error](https://scikit-learn.org/stable/modules/generated/sklearn.metrics.mean_absolute_error.html#sklearn.metrics.mean_absolute_error) metric, with negative sign to follow \"higher is better\" convention)\n",
    "\n",
    "Hyperparameters to search:\n",
    "\n",
    "* `alpha` penalty for RidgeRegression (larger values mean larger strength penalty on sum-of-squares of weights)"
   ]
  },
  {
   "cell_type": "code",
   "execution_count": null,
   "metadata": {},
   "outputs": [],
   "source": [
    "alpha_grid = np.logspace(-5, 5, 11)\n",
    "\n",
    "print(\"Possible Values for ridgeRegressor__alpha\")\n",
    "for alpha in alpha_grid:\n",
    "    print(\"% 11.3f\" % alpha)"
   ]
  },
  {
   "cell_type": "code",
   "execution_count": null,
   "metadata": {},
   "outputs": [],
   "source": [
    "# Create dictionary where:\n",
    "# each key is a pipeline parameter name\n",
    "# each value is a grid of possible values\n",
    "\n",
    "klr_param_grid_by_name = dict(\n",
    "    ridgeRegressor__alpha=alpha_grid,\n",
    "    linearkernelTransformer__kw_args=[dict(x_train_NF=x_trByYear_N1)],\n",
    "    )"
   ]
  },
  {
   "cell_type": "markdown",
   "metadata": {},
   "source": []
  },
  {
   "cell_type": "markdown",
   "metadata": {},
   "source": [
    "#### TODO create the grid search\n",
    "\n",
    "Make sure you use:\n",
    "\n",
    "* The estimator defined above\n",
    "* The parameter grid defined above\n",
    "* The 'splitter' object defined above\n",
    "* The 'scoring' performance metric defined above\n"
   ]
  },
  {
   "cell_type": "code",
   "execution_count": null,
   "metadata": {},
   "outputs": [],
   "source": [
    "# Package up into a sklearn GridSearch object\n",
    "\n",
    "klr_grid_searcher = sklearn.model_selection.GridSearchCV() # TODO fixme"
   ]
  },
  {
   "cell_type": "markdown",
   "metadata": {},
   "source": [
    "### Run the grid search"
   ]
  },
  {
   "cell_type": "code",
   "execution_count": null,
   "metadata": {},
   "outputs": [],
   "source": [
    "start_time_sec = time.time()\n",
    "klr_grid_searcher.fit(x_all_ByYear_L1, y_all_ByYear_L)\n",
    "elapsed_time_sec = time.time() - start_time_sec\n",
    "\n",
    "# Build dataframe of results\n",
    "klr_search_results_df = pd.DataFrame(klr_grid_searcher.cv_results_).copy()\n",
    "print(\"Grid search of %3d configurations done after %6.1f sec\" % (\n",
    "    klr_search_results_df.shape[0], elapsed_time_sec))"
   ]
  },
  {
   "cell_type": "markdown",
   "metadata": {},
   "source": [
    "### Display search results\n",
    "\n",
    "#### TODO determine the best hyperparameters"
   ]
  },
  {
   "cell_type": "code",
   "execution_count": null,
   "metadata": {},
   "outputs": [],
   "source": [
    "best_alpha = None; # TODO"
   ]
  },
  {
   "cell_type": "markdown",
   "metadata": {},
   "source": [
    "### Refit model with best hyperparameters on ALL development data (train+valid)"
   ]
  },
  {
   "cell_type": "code",
   "execution_count": null,
   "metadata": {},
   "outputs": [],
   "source": [
    "#### TODO create new pipeline for ALL development data, using best hyperparameters\n",
    "\n",
    "best_klr = sklearn.pipeline.Pipeline([\n",
    "    ('linearkernelTransformer', sklearn.preprocessing.FunctionTransformer(\n",
    "        linear_kernel.calc_linear_kernel,\n",
    "        kw_args=dict(\n",
    "            x_train_NF=x_all_ByYear_L1))),\n",
    "    ('ridgeRegressor', sklearn.linear_model.Ridge(alpha=best_alpha)), # TODO make sure you use best alpha here\n",
    "    ])"
   ]
  },
  {
   "cell_type": "markdown",
   "metadata": {},
   "source": [
    "#### TODO fit model with the best hyperparameters"
   ]
  },
  {
   "cell_type": "code",
   "execution_count": null,
   "metadata": {},
   "outputs": [],
   "source": [
    "best_klr # TODO call fit on ALL development data (train + valid)"
   ]
  },
  {
   "cell_type": "markdown",
   "metadata": {},
   "source": [
    "### Make figure of predictions and data side-by-side"
   ]
  },
  {
   "cell_type": "code",
   "execution_count": null,
   "metadata": {},
   "outputs": [],
   "source": [
    "plt.plot(x_trByYear_N1, y_trByYear_N, 'bs', alpha=0.4, label='train data');\n",
    "plt.plot(x_vaByYear_T1, y_vaByYear_T, 'cs', alpha=0.4, label='valid data');\n",
    "\n",
    "L = 101\n",
    "xgrid_L1 = np.linspace(-5, 6, L).reshape((L,1))\n",
    "\n",
    "# TODO compute the predictions of the linear kernel regressor\n",
    "yhat_L = xgrid_L1 # TODO fixme\n",
    "\n",
    "# TODO Plot your predictions\n",
    "plt.plot(xgrid_L1, yhat_L, 'r-', linewidth=3, label='Linear Kernel prediction');\n",
    "\n",
    "plt.legend(bbox_to_anchor=(1.0, 0.5));\n",
    "\n",
    "# TODO don't forget your axis labels and title for this figure"
   ]
  },
  {
   "cell_type": "markdown",
   "metadata": {},
   "source": [
    "# Problem 3: Squared Exponential Kernel Regression"
   ]
  },
  {
   "cell_type": "code",
   "execution_count": null,
   "metadata": {},
   "outputs": [],
   "source": [
    "import sqexp_kernel\n",
    "\n",
    "# Allow any simultaneous edits to sqexp_kernel.py\n",
    "# to be reloaded again into this notebook when this cell is executed\n",
    "importlib.reload(sqexp_kernel)"
   ]
  },
  {
   "cell_type": "markdown",
   "metadata": {},
   "source": [
    "### Establish a pipeline for SqExp Kernel Regression\n",
    "\n",
    "Again, makes use of sklearn's `FunctionTransformer` (see [docs](https://scikit-learn.org/stable/modules/generated/sklearn.preprocessing.FunctionTransformer.html)), which will apply our `calc_sqexp_kernel` kernel function as first 'transformation' step in our pipeline."
   ]
  },
  {
   "cell_type": "code",
   "execution_count": null,
   "metadata": {},
   "outputs": [],
   "source": [
    "sqexp_klr = sklearn.pipeline.Pipeline([\n",
    "    ('sqexpKernelTransformer', sklearn.preprocessing.FunctionTransformer(sqexp_kernel.calc_sqexp_kernel)),\n",
    "    ('ridgeRegressor', sklearn.linear_model.Ridge(alpha=1.0)),\n",
    "    ])"
   ]
  },
  {
   "cell_type": "markdown",
   "metadata": {},
   "source": [
    "### Setup grid search for SqExp Kernel hyperparameters"
   ]
  },
  {
   "cell_type": "code",
   "execution_count": null,
   "metadata": {},
   "outputs": [],
   "source": [
    "length_scale_grid = np.logspace(-2, 0, 9)\n",
    "alpha_grid = np.logspace(-2, 3, 5)\n",
    "\n",
    "print(\"Possible Values for sqexpKernelTransformer__kw_args['length_scale']\")\n",
    "for length_scale in length_scale_grid:\n",
    "    print(\"% 11.3f\" % length_scale)\n",
    "\n",
    "print(\"Possible Values for ridgeRegressor__alpha\")\n",
    "for alpha in alpha_grid:\n",
    "    print(\"% 11.3f\" % alpha)"
   ]
  },
  {
   "cell_type": "code",
   "execution_count": null,
   "metadata": {},
   "outputs": [],
   "source": [
    "# Create dictionary where:\n",
    "# each key is a pipeline parameter name\n",
    "# each value is a grid of possible values\n",
    "sqexp_param_grid_by_name = dict(\n",
    "    sqexpKernelTransformer__kw_args=[dict(\n",
    "        length_scale=ell,\n",
    "        x_train_NF=x_trByYear_N1,\n",
    "        ) for ell in length_scale_grid],\n",
    "    ridgeRegressor__alpha=alpha_grid,\n",
    "    )"
   ]
  },
  {
   "cell_type": "code",
   "execution_count": null,
   "metadata": {},
   "outputs": [],
   "source": [
    "# Package up into a sklearn GridSearch object\n",
    "sqexp_klr_grid_searcher = sklearn.model_selection.GridSearchCV()"
   ]
  },
  {
   "cell_type": "markdown",
   "metadata": {},
   "source": [
    "### Run grid search: find hyperparameters that yield best heldout predictions"
   ]
  },
  {
   "cell_type": "code",
   "execution_count": null,
   "metadata": {},
   "outputs": [],
   "source": [
    "start_time_sec = time.time()\n",
    "sqexp_klr_grid_searcher.fit(x_all_ByYear_L1, y_all_ByYear_L)\n",
    "elapsed_time_sec = time.time() - start_time_sec\n",
    "\n",
    "# Build dataframe of results\n",
    "sqexp_klr_search_results_df = pd.DataFrame(sqexp_klr_grid_searcher.cv_results_).copy()\n",
    "print(\"Grid search of %3d configurations done after %6.1f sec\" % (\n",
    "    sqexp_klr_search_results_df.shape[0], elapsed_time_sec))"
   ]
  },
  {
   "cell_type": "markdown",
   "metadata": {},
   "source": [
    "### Display search results\n",
    "\n",
    "#### TODO determine the best hyperparameters"
   ]
  },
  {
   "cell_type": "code",
   "execution_count": null,
   "metadata": {},
   "outputs": [],
   "source": [
    "best_length_scale = None; # TODO\n",
    "best_alpha = None; # TODO"
   ]
  },
  {
   "cell_type": "markdown",
   "metadata": {},
   "source": [
    "### Refit model with best hyperparameters on ALL development data (train+valid)"
   ]
  },
  {
   "cell_type": "code",
   "execution_count": null,
   "metadata": {},
   "outputs": [],
   "source": [
    "#### TODO create new pipeline for ALL development data, using best hyperparameters\n",
    "\n",
    "best_sqexp_klr = sklearn.pipeline.Pipeline([\n",
    "    ('sqexpKernelTransformer', sklearn.preprocessing.FunctionTransformer(\n",
    "        sqexp_kernel.calc_sqexp_kernel,\n",
    "        kw_args=dict(\n",
    "            length_scale=best_length_scale, # TODO make sure you use best length scale here\n",
    "            x_train_NF=x_all_ByYear_L1))),\n",
    "    ('ridgeRegressor', sklearn.linear_model.Ridge(alpha=best_alpha)), # TODO make sure you use best alpha here\n",
    "    ])"
   ]
  },
  {
   "cell_type": "code",
   "execution_count": null,
   "metadata": {},
   "outputs": [],
   "source": [
    "best_sqexp_klr # TODO call fit on ALL development data (train + valid)"
   ]
  },
  {
   "cell_type": "markdown",
   "metadata": {},
   "source": [
    "### Figure 4: Predictions and actual temperatures for all data"
   ]
  },
  {
   "cell_type": "code",
   "execution_count": null,
   "metadata": {},
   "outputs": [],
   "source": [
    "plt.plot(x_trByYear_N1, y_trByYear_N, 'bs', alpha=0.4, label='train data');\n",
    "plt.plot(x_vaByYear_T1, y_vaByYear_T, 'cs', alpha=0.4, label='valid data');\n",
    "\n",
    "L = 101\n",
    "xgrid_L1 = np.linspace(-5, 6, L).reshape((L,1))\n",
    "\n",
    "# TODO compute the predictions of the sqexp kernel regressor\n",
    "yhat_L = xgrid_L1 # TODO fixme\n",
    "\n",
    "# TODO Plot your predictions\n",
    "plt.plot(xgrid_L1, yhat_L, 'r-', linewidth=3, label='SqExp Kernel prediction');\n",
    "\n",
    "plt.legend(bbox_to_anchor=(1.0, 0.5));\n",
    "\n",
    "# TODO don't forget your axis labels and title for this figure"
   ]
  },
  {
   "cell_type": "markdown",
   "metadata": {},
   "source": [
    "# Problem 5: Periodic kernel"
   ]
  },
  {
   "cell_type": "code",
   "execution_count": null,
   "metadata": {},
   "outputs": [],
   "source": [
    "import periodic_kernel\n",
    "\n",
    "# Allow any simultaneous edits to periodic_kernel.py\n",
    "# to be reloaded again into this notebook when this cell is executed\n",
    "importlib.reload(periodic_kernel)"
   ]
  },
  {
   "cell_type": "code",
   "execution_count": null,
   "metadata": {},
   "outputs": [],
   "source": [
    "periodic_klr = sklearn.pipeline.Pipeline([\n",
    "    ('periodicKernelTransformer', sklearn.preprocessing.FunctionTransformer(periodic_kernel.calc_periodic_kernel)),\n",
    "    ('ridgeRegressor', sklearn.linear_model.Ridge(alpha=1.0)),\n",
    "    ])"
   ]
  },
  {
   "cell_type": "code",
   "execution_count": null,
   "metadata": {},
   "outputs": [],
   "source": [
    "periodic_grid = [0.5, 1.0, 1.5, 2.0]\n",
    "length_scale_grid = [0.01, 0.03, 0.09, 0.27]\n",
    "alpha_grid = [1.0, 10.0]\n",
    "\n",
    "print(\"Possible Values for periodicKernelTransformer__kw_args['periodic']\")\n",
    "for period in periodic_grid:\n",
    "    print(\"% 11.3f\" % period)\n",
    "\n",
    "print(\"Possible Values for periodicKernelTransformer__kw_args['length_scale']\")\n",
    "for length_scale in length_scale_grid:\n",
    "    print(\"% 11.3f\" % length_scale)\n",
    "\n",
    "print(\"Possible Values for ridgeRegressor__alpha\")\n",
    "for alpha in alpha_grid:\n",
    "    print(\"% 11.3f\" % alpha)"
   ]
  },
  {
   "cell_type": "code",
   "execution_count": null,
   "metadata": {},
   "outputs": [],
   "source": [
    "periodic_param_grid_by_name = dict(\n",
    "    periodicKernelTransformer__kw_args=[\n",
    "        dict(length_scale=ell, period=p,\n",
    "            x_train_NF=x_trByYear_N1) for (ell,p) in itertools.product(length_scale_grid, periodic_grid)],\n",
    "    ridgeRegressor__alpha=alpha_grid,\n",
    "    )"
   ]
  },
  {
   "cell_type": "code",
   "execution_count": null,
   "metadata": {},
   "outputs": [],
   "source": [
    "# Create grid search object\n",
    "\n",
    "periodic_klr_grid_searcher = sklearn.model_selection.GridSearchCV() # TODO fix me"
   ]
  },
  {
   "cell_type": "markdown",
   "metadata": {},
   "source": [
    "### Run grid search for 'period' and 'length_scale' and 'alpha' hyperparameters"
   ]
  },
  {
   "cell_type": "code",
   "execution_count": null,
   "metadata": {},
   "outputs": [],
   "source": [
    "start_time_sec = time.time()\n",
    "periodic_klr_grid_searcher.fit(x_all_ByYear_L1, y_all_ByYear_L)\n",
    "elapsed_time_sec = time.time() - start_time_sec\n",
    "\n",
    "# Build dataframe of results\n",
    "periodic_klr_search_results_df = pd.DataFrame(periodic_klr_grid_searcher.cv_results_).copy()\n",
    "print(\"Grid search of %3d configurations done after %6.1f sec\" % (\n",
    "    periodic_klr_search_results_df.shape[0], elapsed_time_sec))"
   ]
  },
  {
   "cell_type": "markdown",
   "metadata": {},
   "source": [
    "### Determine the best hyperparameters\n",
    "\n",
    "#### TODO identify the best hyperparameter"
   ]
  },
  {
   "cell_type": "code",
   "execution_count": null,
   "metadata": {},
   "outputs": [],
   "source": [
    "best_alpha = None\n",
    "best_length_scale = None\n",
    "best_period = None"
   ]
  },
  {
   "cell_type": "markdown",
   "metadata": {},
   "source": [
    "### Retrain model with best hyperparameters on ALL development data"
   ]
  },
  {
   "cell_type": "code",
   "execution_count": null,
   "metadata": {},
   "outputs": [],
   "source": [
    "best_periodic_klr = sklearn.pipeline.Pipeline([\n",
    "    ('periodicKernelTransformer', sklearn.preprocessing.FunctionTransformer(\n",
    "        periodic_kernel.calc_periodic_kernel,\n",
    "        kw_args=dict(\n",
    "            length_scale=best_length_scale,\n",
    "            period=best_period,\n",
    "            x_train_NF=x_all_ByYear_L1,\n",
    "            ))),\n",
    "    ('ridgeRegressor', sklearn.linear_model.Ridge(alpha=1.0)),\n",
    "    ])"
   ]
  },
  {
   "cell_type": "code",
   "execution_count": null,
   "metadata": {},
   "outputs": [],
   "source": [
    "best_periodic_klr.fit # TODO call fit with all development data"
   ]
  },
  {
   "cell_type": "code",
   "execution_count": null,
   "metadata": {},
   "outputs": [],
   "source": [
    "plt.plot(x_trByYear_N1, y_trByYear_N, 'bs', alpha=0.4, label='train data');\n",
    "plt.plot(x_vaByYear_T1, y_vaByYear_T, 'cs', alpha=0.4, label='valid data');\n",
    "\n",
    "L = 101\n",
    "xgrid_L1 = np.linspace(-5, 6, L).reshape((L,1))\n",
    "\n",
    "# TODO compute the predictions of the periodic kernel regressor\n",
    "yhat_L = xgrid_L1 # TODO fixme\n",
    "\n",
    "# TODO Plot your predictions\n",
    "plt.plot(xgrid_L1, yhat_L, 'r-', linewidth=3, label='Periodic Kernel prediction');\n",
    "\n",
    "plt.legend(bbox_to_anchor=(1.0, 0.5));\n",
    "\n",
    "# TODO don't forget your axis labels and title for this figure"
   ]
  },
  {
   "cell_type": "code",
   "execution_count": null,
   "metadata": {},
   "outputs": [],
   "source": []
  },
  {
   "cell_type": "markdown",
   "metadata": {},
   "source": [
    "# Problem 6: Compare Methods on Test Set"
   ]
  },
  {
   "cell_type": "markdown",
   "metadata": {},
   "source": [
    "### Load test data"
   ]
  },
  {
   "cell_type": "code",
   "execution_count": null,
   "metadata": {},
   "outputs": [],
   "source": [
    "data_te_df = pd.read_csv(os.path.join(DATA_DIR, 'data_test_ByYear.csv'))\n",
    "x_te_T1 = data_te_df['years_since_19850101'].values[:][:,np.newaxis].copy()  # Load (T,1) feature values array\n",
    "y_te_T = data_te_df['temp_deg_C'].values[:].copy()                           # Load (T,) feature values array"
   ]
  },
  {
   "cell_type": "markdown",
   "metadata": {},
   "source": [
    "### Implement Baseline: Periodic nearest neighbor\n",
    "\n",
    "#### TODO implement the method below to make baseline predictions"
   ]
  },
  {
   "cell_type": "code",
   "execution_count": null,
   "metadata": {},
   "outputs": [],
   "source": [
    "def predict_periodic_nearest_neighbor(\n",
    "        x_te_T1,\n",
    "        x_all_ByYear_L1, y_all_ByYear_L,\n",
    "        years_back=[2.0, 3.0, 4.0, 5.0, 6.0, 7.0, 8.0]):\n",
    "    ''' Compute baseline prediction for each day in test set\n",
    "    \n",
    "    Args\n",
    "    ----\n",
    "    x_te_T1 : 2D array, shape (T, 1) = (n_test_examples, 1)\n",
    "        Contains x features for the test set\n",
    "    x_all_ByYear_L1 : 2D array, shape (n_trainvalid_examples, 1)\n",
    "        Contains x features for train+valid set\n",
    "    y_all_ByYear_L : 1D array, shape (n_trainvalid_examples,)\n",
    "        Contains y response values for train+valid set\n",
    "    \n",
    "    Returns\n",
    "    -------\n",
    "    yhat_T : 1D array, shape (T,)\n",
    "        Predicted y values for each test example\n",
    "        Using 'periodic' nearest neighbors method\n",
    "    '''\n",
    "    assert x_te_T1.ndim == 2\n",
    "    T, F = x_te_T1.shape\n",
    "    \n",
    "    # TODO compute the baseline\n",
    "    yhat_T = np.zeros(T)\n",
    "    \n",
    "    return yhat_T\n"
   ]
  },
  {
   "cell_type": "code",
   "execution_count": null,
   "metadata": {},
   "outputs": [],
   "source": []
  },
  {
   "cell_type": "code",
   "execution_count": null,
   "metadata": {},
   "outputs": [],
   "source": []
  },
  {
   "attachments": {
    "image.png": {
     "image/png": "[encoded data removed]"
    }
   },
   "cell_type": "markdown",
   "metadata": {},
   "source": [
    "# Table 6: Comparison of methods on the test set\n",
    "\n",
    "Please report MEAN ABSOLUTE ERROR on both the train+valid and test sets, to 3 digits of precision\n",
    "\n",
    "### TODO make a table like this\n",
    "\n",
    "![image.png](attachment:image.png)"
   ]
  },
  {
   "cell_type": "code",
   "execution_count": null,
   "metadata": {},
   "outputs": [],
   "source": []
  },
  {
   "cell_type": "markdown",
   "metadata": {},
   "source": []
  },
  {
   "cell_type": "code",
   "execution_count": null,
   "metadata": {},
   "outputs": [],
   "source": []
  }
 ],
 "metadata": {
  "kernelspec": {
   "display_name": "Python 3",
   "language": "python",
   "name": "python3"
  },
  "language_info": {
   "codemirror_mode": {
    "name": "ipython",
    "version": 3
   },
   "file_extension": ".py",
   "mimetype": "text/x-python",
   "name": "python",
   "nbconvert_exporter": "python",
   "pygments_lexer": "ipython3",
   "version": "3.6.10"
  }
 },
 "nbformat": 4,
 "nbformat_minor": 4
}
